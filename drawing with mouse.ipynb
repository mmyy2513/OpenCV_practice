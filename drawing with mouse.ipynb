{
 "cells": [
  {
   "cell_type": "code",
   "execution_count": 2,
   "metadata": {
    "ExecuteTime": {
     "end_time": "2021-01-11T03:04:06.332790Z",
     "start_time": "2021-01-11T03:04:05.406267Z"
    }
   },
   "outputs": [],
   "source": [
    "import cv2"
   ]
  },
  {
   "cell_type": "markdown",
   "metadata": {},
   "source": [
    "---\n",
    "### cv2.setMouseCallback(windowName, callback, param = None)\n",
    "- callback : 사전 정의한 callback 함수"
   ]
  },
  {
   "cell_type": "code",
   "execution_count": 4,
   "metadata": {
    "ExecuteTime": {
     "end_time": "2021-01-11T02:21:57.149074Z",
     "start_time": "2021-01-11T02:21:57.132120Z"
    }
   },
   "outputs": [
    {
     "name": "stdout",
     "output_type": "stream",
     "text": [
      "['EVENT_FLAG_ALTKEY', 'EVENT_FLAG_CTRLKEY', 'EVENT_FLAG_LBUTTON', 'EVENT_FLAG_MBUTTON', 'EVENT_FLAG_RBUTTON', 'EVENT_FLAG_SHIFTKEY', 'EVENT_LBUTTONDBLCLK', 'EVENT_LBUTTONDOWN', 'EVENT_LBUTTONUP', 'EVENT_MBUTTONDBLCLK', 'EVENT_MBUTTONDOWN', 'EVENT_MBUTTONUP', 'EVENT_MOUSEHWHEEL', 'EVENT_MOUSEMOVE', 'EVENT_MOUSEWHEEL', 'EVENT_RBUTTONDBLCLK', 'EVENT_RBUTTONDOWN', 'EVENT_RBUTTONUP']\n"
     ]
    }
   ],
   "source": [
    "# cv2 내에 사전 정의 되어 있는 Mouse Event 종류를 확인\n",
    "events = [event for event in dir(cv2) if 'EVENT' in event]\n",
    "print(events)"
   ]
  },
  {
   "cell_type": "markdown",
   "metadata": {},
   "source": [
    "---\n",
    "#### 더블클릭으로 원을 그리는 예제"
   ]
  },
  {
   "cell_type": "code",
   "execution_count": 3,
   "metadata": {
    "ExecuteTime": {
     "end_time": "2021-01-11T03:04:08.988108Z",
     "start_time": "2021-01-11T03:04:07.150280Z"
    }
   },
   "outputs": [],
   "source": [
    "\n",
    "import numpy as np\n",
    "\n",
    "# callback function\n",
    "def draw_circle(event, x, y, flags, param):\n",
    "    if event == cv2.EVENT_LBUTTONDBLCLK:\n",
    "        cv2.circle(img, (x,y), 100, (255,0,0), -1)\n",
    "\n",
    "# 검은 캔버스 생성\n",
    "img = np.zeros((512,512,3), np.uint8)\n",
    "\n",
    "cv2.namedWindow('image')\n",
    "cv2.setMouseCallback('image', draw_circle)\n",
    "\n",
    "while(True):\n",
    "    cv2.imshow(\"image\",img)\n",
    "    if cv2.waitKey(1) == ord('q'):\n",
    "        break\n",
    "cv2.destroyAllWindows()\n",
    "    "
   ]
  },
  {
   "cell_type": "markdown",
   "metadata": {},
   "source": [
    "---\n",
    "#### 마우스를 이동하며 도형 그리기"
   ]
  },
  {
   "cell_type": "code",
   "execution_count": 6,
   "metadata": {
    "ExecuteTime": {
     "end_time": "2021-01-11T03:04:33.532234Z",
     "start_time": "2021-01-11T03:04:24.310280Z"
    }
   },
   "outputs": [],
   "source": [
    "drawing = False #Mouse 클릭 여부\n",
    "mode = True # True: 사각형, False : 원\n",
    "ix, iy = -1, -1\n",
    "\n",
    "#Callback\n",
    "# Mouse Callback함수\n",
    "def draw(event, x,y, flags, param):\n",
    "    global ix,iy, drawing, mode\n",
    "\n",
    "    if event == cv2.EVENT_LBUTTONDOWN: #마우스를 누른 상태\n",
    "        drawing = True \n",
    "        ix, iy = x,y\n",
    "    elif event == cv2.EVENT_MOUSEMOVE: # 마우스 이동\n",
    "        if drawing == True:            # 마우스를 누른 상태 일경우\n",
    "            if mode == True:\n",
    "                cv2.rectangle(img,(ix,iy),(x,y),(255,0,0),-1)\n",
    "            else:\n",
    "                cv2.circle(img,(x,y),5,(0,255,0),-1)\n",
    "\n",
    "    elif event == cv2.EVENT_LBUTTONUP:\n",
    "        drawing = False;             # 마우스를 떼면 상태 변경\n",
    "        if mode == True:\n",
    "            cv2.rectangle(img,(ix,iy),(x,y),(255,0,0),-1)\n",
    "        else:\n",
    "            cv2.circle(img,(x,y),5,(0,255,0),-1)\n",
    "\n",
    "\n",
    "img = np.zeros((512,512,3), np.uint8)\n",
    "\n",
    "cv2.namedWindow('image')\n",
    "cv2.setMouseCallback('image', draw)\n",
    "\n",
    "while(True):\n",
    "    cv2.imshow(\"image\",img)\n",
    "    key = cv2.waitKey(1)\n",
    "    \n",
    "    if key == ord('q'):\n",
    "        break\n",
    "    elif key == ord('m'):\n",
    "        mode = not mode\n",
    "        \n",
    "cv2.destroyAllWindows()"
   ]
  },
  {
   "cell_type": "code",
   "execution_count": null,
   "metadata": {},
   "outputs": [],
   "source": []
  }
 ],
 "metadata": {
  "kernelspec": {
   "display_name": "Python 3",
   "language": "python",
   "name": "python3"
  },
  "language_info": {
   "codemirror_mode": {
    "name": "ipython",
    "version": 3
   },
   "file_extension": ".py",
   "mimetype": "text/x-python",
   "name": "python",
   "nbconvert_exporter": "python",
   "pygments_lexer": "ipython3",
   "version": "3.8.3"
  }
 },
 "nbformat": 4,
 "nbformat_minor": 4
}
