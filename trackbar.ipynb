{
 "cells": [
  {
   "cell_type": "code",
   "execution_count": 1,
   "metadata": {
    "ExecuteTime": {
     "end_time": "2021-01-11T03:05:47.889144Z",
     "start_time": "2021-01-11T03:05:47.689255Z"
    }
   },
   "outputs": [],
   "source": [
    "import cv2"
   ]
  },
  {
   "cell_type": "markdown",
   "metadata": {},
   "source": [
    "---\n",
    "### cv2.createTrackbar(trackbarName, windowName, value, count, onChange\n",
    "- value : trackbar 생성 초기값\n",
    "- count : trackbar의 최댓값\n",
    "- onChange : slide값이 변경될 때 호출되는 callback function\n",
    "\n",
    "### cv2.getTrackbarPos(trackbarName, windowName)\n",
    "- Trackbar의 값을 호출"
   ]
  },
  {
   "cell_type": "code",
   "execution_count": 3,
   "metadata": {
    "ExecuteTime": {
     "end_time": "2021-01-11T03:13:35.600009Z",
     "start_time": "2021-01-11T03:13:16.790055Z"
    }
   },
   "outputs": [],
   "source": [
    "import numpy as np\n",
    "\n",
    "def callback(x):\n",
    "    pass\n",
    "\n",
    "img = np.zeros((512,512,3), np.uint8)\n",
    "cv2.namedWindow('image')\n",
    "\n",
    "cv2.createTrackbar(\"R\",'image', 0, 255, callback)\n",
    "cv2.createTrackbar(\"G\",'image', 0, 255, callback)\n",
    "cv2.createTrackbar(\"B\",'image', 0, 255, callback)\n",
    "\n",
    "switch = '0:OFF \\n1:On '\n",
    "cv2.createTrackbar(switch,'image',0,1,callback)\n",
    "\n",
    "while(True):\n",
    "    cv2.imshow('image',img)\n",
    "    \n",
    "    if cv2.waitKey(1) == ord('q'):\n",
    "        break\n",
    "    \n",
    "    r = cv2.getTrackbarPos(\"R\",'image')\n",
    "    g = cv2.getTrackbarPos(\"G\",'image')\n",
    "    b = cv2.getTrackbarPos(\"B\",'image')\n",
    "    s = cv2.getTrackbarPos(\"switch\",'image')\n",
    "    \n",
    "    if s == 0:\n",
    "        img[:] = 0\n",
    "    else:\n",
    "        img[:] = [b,g,r]\n",
    "cv2.destroyAllWindows()"
   ]
  },
  {
   "cell_type": "code",
   "execution_count": null,
   "metadata": {},
   "outputs": [],
   "source": []
  }
 ],
 "metadata": {
  "kernelspec": {
   "display_name": "Python 3",
   "language": "python",
   "name": "python3"
  },
  "language_info": {
   "codemirror_mode": {
    "name": "ipython",
    "version": 3
   },
   "file_extension": ".py",
   "mimetype": "text/x-python",
   "name": "python",
   "nbconvert_exporter": "python",
   "pygments_lexer": "ipython3",
   "version": "3.8.3"
  }
 },
 "nbformat": 4,
 "nbformat_minor": 4
}
