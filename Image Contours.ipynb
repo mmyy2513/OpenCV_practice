{
 "cells": [
  {
   "cell_type": "code",
   "execution_count": 1,
   "metadata": {
    "ExecuteTime": {
     "end_time": "2021-01-27T01:24:28.753604Z",
     "start_time": "2021-01-27T01:24:27.524514Z"
    }
   },
   "outputs": [],
   "source": [
    "import cv2\n",
    "import numpy as np\n",
    "import matplotlib.pyplot as plt"
   ]
  },
  {
   "cell_type": "markdown",
   "metadata": {},
   "source": [
    "# Image Contours\n",
    "- 영역의 경계선\n",
    "- Binary 이미지를 사용 ( Threshold or Canny 로 전처리 )\n",
    "- 검은색 배경, 흰색 Object 이용"
   ]
  },
  {
   "cell_type": "markdown",
   "metadata": {},
   "source": [
    "### cv2.findContours(image, mode, method[, contours[, hierarchy[, offset]]])\n",
    "- image : binary\n",
    "- mode   \n",
    "    - cv2.RETR_EXTERNAL : 바깥쪽 Line\n",
    "    - cv2.RETR_LIST : \n",
    "    - cv2.RETR_CCOMP\n",
    "    - cv2.RETR_TREE\n",
    "- method\n",
    "    - cv2.CHAIN_APPROX_NONE\n",
    "    - cv2.CHAIN_APPROX_SIMPLE : 4개의 point만을 저장하여 메모리 절약\n",
    "    - cv2.CHAIN_APPROX_TC89_L1\n",
    "    - cv2.CHAIN_APPROX_TC89_KCOS"
   ]
  },
  {
   "cell_type": "markdown",
   "metadata": {},
   "source": [
    "### cv2.drawContours(image, contours, contourIdx, color[, thickness[, lineType[, hierarchy[, maxLevel[, offset]]]]])\n",
    "- contours : contour 정보\n",
    "- contourIdx : contours list 중 몇 번째 line을 그릴 것인지. -1이면 전부"
   ]
  },
  {
   "cell_type": "code",
   "execution_count": 62,
   "metadata": {
    "ExecuteTime": {
     "end_time": "2021-01-27T01:51:57.177842Z",
     "start_time": "2021-01-27T01:51:38.946193Z"
    }
   },
   "outputs": [],
   "source": [
    "img = cv2.imread('src/lion.jpg')\n",
    "\n",
    "img = cv2.resize(img, (640,480))\n",
    "origin = img.copy()\n",
    "img = cv2.cvtColor(img, cv2.COLOR_BGR2RGB)\n",
    "img = cv2.cvtColor(img, cv2.COLOR_RGB2GRAY)\n",
    "\n",
    "ret, thresh = cv2.threshold(img, 100, 255, 0)\n",
    "\n",
    "contours, hierachy = cv2.findContours(thresh, cv2.RETR_EXTERNAL, cv2.CHAIN_APPROX_SIMPLE)\n",
    "image = cv2.drawContours(origin, contours, -1, (0,255,0), 3)\n",
    "cv2.imshow(\"thr\", thresh)\n",
    "cv2.imshow(\"img\", image)\n",
    "cv2.waitKey(0)\n",
    "cv2.destroyAllWindows()"
   ]
  },
  {
   "cell_type": "code",
   "execution_count": null,
   "metadata": {},
   "outputs": [],
   "source": []
  }
 ],
 "metadata": {
  "kernelspec": {
   "display_name": "Python 3",
   "language": "python",
   "name": "python3"
  },
  "language_info": {
   "codemirror_mode": {
    "name": "ipython",
    "version": 3
   },
   "file_extension": ".py",
   "mimetype": "text/x-python",
   "name": "python",
   "nbconvert_exporter": "python",
   "pygments_lexer": "ipython3",
   "version": "3.8.3"
  }
 },
 "nbformat": 4,
 "nbformat_minor": 4
}
